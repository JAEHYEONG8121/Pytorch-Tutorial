{
  "nbformat": 4,
  "nbformat_minor": 0,
  "metadata": {
    "colab": {
      "provenance": [],
      "authorship_tag": "ABX9TyNsicgGMz2jB+dt3QpjDN/E",
      "include_colab_link": true
    },
    "kernelspec": {
      "name": "python3",
      "display_name": "Python 3"
    },
    "language_info": {
      "name": "python"
    }
  },
  "cells": [
    {
      "cell_type": "markdown",
      "metadata": {
        "id": "view-in-github",
        "colab_type": "text"
      },
      "source": [
        "<a href=\"https://colab.research.google.com/github/JAEHYEONG8121/Pytorch-Tutorial/blob/main/VGG.ipynb\" target=\"_parent\"><img src=\"https://colab.research.google.com/assets/colab-badge.svg\" alt=\"Open In Colab\"/></a>"
      ]
    },
    {
      "cell_type": "markdown",
      "source": [
        "## VGG\n",
        "\n",
        "![image.png](data:image/png;base64,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)\n",
        "\n",
        "**VGG-16 architecture**\n",
        "\n",
        "- input (224x224 RGB image)\n",
        "- [Conv3-64] x2 → Max Pool(2x2, stride=2 -> half)\n",
        "- [Conv3-128] x2 → Max Pool\n",
        "- [Conv3-256] x3 → Max Pool\n",
        "- [Conv3-512] x3 → Max Pool\n",
        "- [Conv3-512] x3 → Max Pool\n",
        "- Fully Connected x3 → Softmax\n",
        "\n"
      ],
      "metadata": {
        "id": "CjCGmnZ2gWM7"
      }
    },
    {
      "cell_type": "code",
      "execution_count": 1,
      "metadata": {
        "id": "6QxtlBm7gEeu"
      },
      "outputs": [],
      "source": [
        "import torch\n",
        "import torch.nn as nn\n",
        "import torch.optim as optim\n",
        "import torch.nn.functional as F\n",
        "from torch.utils.data import DataLoader\n",
        "import torchvision.datasets as datasets\n",
        "import torchvision.transforms as transforms"
      ]
    },
    {
      "cell_type": "code",
      "source": [
        "VGG_types = {\n",
        "    'VGG11' : [64, 'M', 128, 'M', 256, 256, 'M', 512, 512, 'M', 512, 512, 'M'],\n",
        "    'VGG13' : [64, 64, 'M', 128, 128, 'M', 256, 256, 'M', 512, 512, 'M', 512, 512, 'M'],\n",
        "    'VGG16' : [64, 64, 'M', 128, 128, 'M', 256, 256, 256, 'M', 512, 512, 512, 'M', 512, 512, 512, 'M'],\n",
        "    'VGG19' : [64, 64, 'M', 128, 128, 'M', 256, 256, 256, 256, 'M', 512, 512, 512, 512, 'M', 512, 512, 512, 512, 'M']\n",
        "}\n",
        "\n",
        "# Then flatten and 4096x4096x1000 Linear Layers\n",
        "\n",
        "class VGG_net(nn.Module):\n",
        "  def __init__(self, in_channels, num_classes):\n",
        "    super(VGG_net, self).__init__()\n",
        "    self.in_channels = in_channels\n",
        "    self.conv_layers = self.create_conv_layers(VGG_types['VGG16'])\n",
        "    self.fcs = nn.Sequential(\n",
        "        nn.Linear(512*7*7, 4096), # 224/(2**5) = 7, we have 5 MaxPool\n",
        "        nn.ReLU(),\n",
        "        nn.Dropout(p=0.5),\n",
        "        nn.Linear(4096, 4096),\n",
        "        nn.ReLU(),\n",
        "        nn.Dropout(p=0.5),\n",
        "        nn.Linear(4096, num_classes)\n",
        "        )\n",
        "\n",
        "  def forward(self, x):\n",
        "    x = self.conv_layers(x)\n",
        "    x = x.reshape(x.shape[0], -1)\n",
        "    x = self.fcs(x)\n",
        "    return x\n",
        "\n",
        "  def create_conv_layers(self, architecture):\n",
        "    layers = []\n",
        "    in_channels = self.in_channels\n",
        "\n",
        "    for x in architecture:\n",
        "      if type(x) == int :\n",
        "        out_channels = x\n",
        "\n",
        "        layers += [nn.Conv2d(in_channels=in_channels, out_channels=out_channels,\n",
        "                             kernel_size=(3, 3), stride=(1, 1), padding=(1, 1)),\n",
        "                             nn.BatchNorm2d(x),\n",
        "                             nn.ReLU(x)]\n",
        "        in_channels = x\n",
        "      elif x == 'M':\n",
        "        layers += [nn.MaxPool2d(kernel_size=(2, 2), stride=(2, 2))]\n",
        "\n",
        "    return nn.Sequential(*layers)"
      ],
      "metadata": {
        "id": "Xn96IVSjjTkv"
      },
      "execution_count": 3,
      "outputs": []
    },
    {
      "cell_type": "code",
      "source": [
        "model = VGG_net(in_channels=3, num_classes=1000)\n",
        "x = torch.randn(1, 3, 224, 224)\n",
        "print(model(x).shape)"
      ],
      "metadata": {
        "colab": {
          "base_uri": "https://localhost:8080/"
        },
        "id": "SQXNTVnem4nf",
        "outputId": "d16354ac-f249-4325-e675-bf5871bbadd4"
      },
      "execution_count": 4,
      "outputs": [
        {
          "output_type": "stream",
          "name": "stdout",
          "text": [
            "torch.Size([1, 1000])\n"
          ]
        }
      ]
    }
  ]
}