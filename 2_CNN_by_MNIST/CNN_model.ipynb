{
  "cells": [
    {
      "cell_type": "markdown",
      "metadata": {
        "id": "view-in-github",
        "colab_type": "text"
      },
      "source": [
        "<a href=\"https://colab.research.google.com/github/JAEHYEONG8121/Pytorch-Tutorial/blob/main/CNN.ipynb\" target=\"_parent\"><img src=\"https://colab.research.google.com/assets/colab-badge.svg\" alt=\"Open In Colab\"/></a>"
      ]
    },
    {
      "cell_type": "markdown",
      "metadata": {
        "id": "YWSuUbjiJfFO"
      },
      "source": [
        "## CNN\n",
        "> What is convolution?\n",
        "\n",
        "- 1 blue 3 brown conv\n",
        "- https://www.youtube.com/watch?v=KuXjwB4LzSA\n",
        "\n",
        "\n",
        "> Why we use CNN?\n",
        "\n",
        "- Artificial Neural Network vs Convolution Neural Network\n",
        "- ANN is fully-connected but CNN is locally connected\n",
        "- Image datas usually have huge data points\n",
        "- If we use ANN, there is too much calculation so we should have vast resources\n",
        "\n",
        "![2.jpg](data:image/jpeg;base64,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)"
      ]
    },
    {
      "cell_type": "code",
      "execution_count": 38,
      "metadata": {
        "id": "g1HhemwqEEVf"
      },
      "outputs": [],
      "source": [
        " import torch\n",
        " import torch.nn as nn\n",
        " import torch.nn.functional as F\n",
        " from torch.utils.data import DataLoader\n",
        " from torchvision import datasets, transforms\n",
        " from torchvision.utils import make_grid\n",
        "\n",
        " import numpy as np\n",
        " import pandas as pd\n",
        " from sklearn.metrics import confusion_matrix\n",
        " import matplotlib.pyplot as plt\n",
        " %matplotlib inline"
      ]
    },
    {
      "cell_type": "code",
      "execution_count": 39,
      "metadata": {
        "id": "KyMW31fvO7-f"
      },
      "outputs": [],
      "source": [
        "# Convert MNIST Image Files into a Tensor of 4-Dimensions ( # of images, Heights, Width, Color channels)\n",
        "transform = transforms.ToTensor()"
      ]
    },
    {
      "cell_type": "markdown",
      "metadata": {
        "id": "grNrsz3hPxDB"
      },
      "source": [
        "***\n",
        "## Train Data"
      ]
    },
    {
      "cell_type": "code",
      "execution_count": 40,
      "metadata": {
        "id": "yaYl7iV9PtM9"
      },
      "outputs": [],
      "source": [
        "train_data = datasets.MNIST(root='/cnn_data', train=True, download=True, transform=transform)"
      ]
    },
    {
      "cell_type": "markdown",
      "metadata": {
        "id": "lnJAsQPZQTF8"
      },
      "source": [
        "***\n",
        "## Test Data"
      ]
    },
    {
      "cell_type": "code",
      "execution_count": 41,
      "metadata": {
        "id": "ZozWtRm8QN4b"
      },
      "outputs": [],
      "source": [
        "test_data = datasets.MNIST(root='cnn_data', train=False, download=True, transform=transform)\n"
      ]
    },
    {
      "cell_type": "code",
      "execution_count": 42,
      "metadata": {
        "colab": {
          "base_uri": "https://localhost:8080/"
        },
        "id": "0bWts-P6Qdyf",
        "outputId": "32d6e30f-9fbb-45c5-fa60-742c62cfa11e"
      },
      "outputs": [
        {
          "output_type": "execute_result",
          "data": {
            "text/plain": [
              "Dataset MNIST\n",
              "    Number of datapoints: 60000\n",
              "    Root location: /cnn_data\n",
              "    Split: Train\n",
              "    StandardTransform\n",
              "Transform: ToTensor()"
            ]
          },
          "metadata": {},
          "execution_count": 42
        }
      ],
      "source": [
        "train_data"
      ]
    },
    {
      "cell_type": "code",
      "execution_count": 43,
      "metadata": {
        "colab": {
          "base_uri": "https://localhost:8080/"
        },
        "id": "G5AUe9mgQgGo",
        "outputId": "41c4ae6d-16f6-4bcd-eb49-d2ddcb536d21"
      },
      "outputs": [
        {
          "output_type": "execute_result",
          "data": {
            "text/plain": [
              "Dataset MNIST\n",
              "    Number of datapoints: 10000\n",
              "    Root location: cnn_data\n",
              "    Split: Test\n",
              "    StandardTransform\n",
              "Transform: ToTensor()"
            ]
          },
          "metadata": {},
          "execution_count": 43
        }
      ],
      "source": [
        "test_data"
      ]
    },
    {
      "cell_type": "markdown",
      "metadata": {
        "id": "9mYRVbX0bRBd"
      },
      "source": [
        "***\n",
        "## Create a small batch size for images"
      ]
    },
    {
      "cell_type": "code",
      "execution_count": 44,
      "metadata": {
        "id": "r2UENfY3a-SH"
      },
      "outputs": [],
      "source": [
        "train_loader = DataLoader(train_data, batch_size=10, shuffle=True)\n",
        "test_loader = DataLoader(test_data, batch_size=10, shuffle=False)"
      ]
    },
    {
      "cell_type": "markdown",
      "metadata": {
        "id": "DZUvjj5-cIsZ"
      },
      "source": [
        "***\n",
        "## Define Our CNN Model"
      ]
    },
    {
      "cell_type": "code",
      "execution_count": 45,
      "metadata": {
        "id": "mtDH4WPHcFIW"
      },
      "outputs": [],
      "source": [
        "# Describe conv layer and what it's doing (2 conv layers)\n",
        "# This is just an example\n",
        "conv1 = nn.Conv2d(1, 6, 3, 1)\n",
        "conv2 = nn.Conv2d(6, 16, 3, 1)"
      ]
    },
    {
      "cell_type": "code",
      "execution_count": 46,
      "metadata": {
        "id": "RfIHChtud2om"
      },
      "outputs": [],
      "source": [
        "# Grab 1 MNIST record/image\n",
        "for i, (X_Train, y_train) in enumerate(train_data):\n",
        "  break"
      ]
    },
    {
      "cell_type": "code",
      "execution_count": 47,
      "metadata": {
        "colab": {
          "base_uri": "https://localhost:8080/"
        },
        "id": "S8vf689HeAoM",
        "outputId": "62f08825-39a9-4942-e124-fce725ebbf8c"
      },
      "outputs": [
        {
          "output_type": "execute_result",
          "data": {
            "text/plain": [
              "torch.Size([1, 28, 28])"
            ]
          },
          "metadata": {},
          "execution_count": 47
        }
      ],
      "source": [
        "X_Train.shape"
      ]
    },
    {
      "cell_type": "code",
      "execution_count": 48,
      "metadata": {
        "id": "4b0oqkT8eFyz"
      },
      "outputs": [],
      "source": [
        "x = X_Train.view(1, 1, 28, 28)"
      ]
    },
    {
      "cell_type": "code",
      "execution_count": 49,
      "metadata": {
        "id": "FCGNv3d3ebMD"
      },
      "outputs": [],
      "source": [
        "# Perform out first convolution\n",
        "x = F.relu(conv1(x)) # Rectified Linear Unit for our activation function"
      ]
    },
    {
      "cell_type": "code",
      "execution_count": 50,
      "metadata": {
        "colab": {
          "base_uri": "https://localhost:8080/"
        },
        "id": "aeh-s0aHeqPq",
        "outputId": "1543f0c9-44b4-49e0-aa69-1e3cfb929106"
      },
      "outputs": [
        {
          "output_type": "execute_result",
          "data": {
            "text/plain": [
              "torch.Size([1, 6, 26, 26])"
            ]
          },
          "metadata": {},
          "execution_count": 50
        }
      ],
      "source": [
        "# 1 single image, 6 is the filters we asked for, 26x26 (28 - 3 + 1)\n",
        "x.shape"
      ]
    },
    {
      "cell_type": "code",
      "execution_count": 51,
      "metadata": {
        "id": "zmuwCq2ner7r"
      },
      "outputs": [],
      "source": [
        "# pass thru the pooling layer\n",
        "x = F.max_pool2d(x, 2, 2) # kernel of 2 and stride of 2"
      ]
    },
    {
      "cell_type": "code",
      "execution_count": 52,
      "metadata": {
        "colab": {
          "base_uri": "https://localhost:8080/"
        },
        "id": "7nROy670gAAQ",
        "outputId": "a913ef95-ee37-45b7-ecb6-2e68315cd187"
      },
      "outputs": [
        {
          "output_type": "execute_result",
          "data": {
            "text/plain": [
              "torch.Size([1, 6, 13, 13])"
            ]
          },
          "metadata": {},
          "execution_count": 52
        }
      ],
      "source": [
        "x.shape # 26 / 2 = 13"
      ]
    },
    {
      "cell_type": "code",
      "execution_count": 53,
      "metadata": {
        "id": "fl5rafSCgF1U"
      },
      "outputs": [],
      "source": [
        "# Do our second convolutional layer\n",
        "x = F.relu(conv2(x))"
      ]
    },
    {
      "cell_type": "code",
      "execution_count": 54,
      "metadata": {
        "colab": {
          "base_uri": "https://localhost:8080/"
        },
        "id": "QV067uEfgwzC",
        "outputId": "8bd6513c-a05d-493b-dd86-1cb2466a97f0"
      },
      "outputs": [
        {
          "output_type": "execute_result",
          "data": {
            "text/plain": [
              "torch.Size([1, 16, 11, 11])"
            ]
          },
          "metadata": {},
          "execution_count": 54
        }
      ],
      "source": [
        "# Again, we didn't set padding so we lose 2 pixels around the outside of the image\n",
        "x.shape"
      ]
    },
    {
      "cell_type": "code",
      "execution_count": 55,
      "metadata": {
        "id": "tQoABE6vgx15"
      },
      "outputs": [],
      "source": [
        "# Pooling layer\n",
        "x = F.max_pool2d(x, 2, 2)"
      ]
    },
    {
      "cell_type": "code",
      "execution_count": 56,
      "metadata": {
        "colab": {
          "base_uri": "https://localhost:8080/"
        },
        "id": "4zo19DO4hA_D",
        "outputId": "215b1f95-ef17-4fdc-fd8b-12bed4e9db79"
      },
      "outputs": [
        {
          "output_type": "execute_result",
          "data": {
            "text/plain": [
              "torch.Size([1, 16, 5, 5])"
            ]
          },
          "metadata": {},
          "execution_count": 56
        }
      ],
      "source": [
        "x.shape # 11 / 2 = 5.5, but we have to round down, because you can't invent data to round up"
      ]
    },
    {
      "cell_type": "markdown",
      "metadata": {
        "id": "gMtr_-s7hxBE"
      },
      "source": [
        "***\n",
        "## Model Class\n",
        "\n",
        "> Let's build actual Model"
      ]
    },
    {
      "cell_type": "code",
      "execution_count": 57,
      "metadata": {
        "id": "pv_qhaZXhhew"
      },
      "outputs": [],
      "source": [
        "class ConvolutionNetwork(nn.Module):\n",
        "  def __init__(self):\n",
        "    super().__init__()\n",
        "    self.conv1 = nn.Conv2d(1, 6, 3, 1)\n",
        "    self.conv2 = nn.Conv2d(6, 16, 3, 1)\n",
        "    # Fully Connected Layer\n",
        "    self.fc1 = nn.Linear(5*5*16, 120)\n",
        "    self.fc2 = nn.Linear(120, 84)\n",
        "    self.fc3 = nn.Linear(84, 10)\n",
        "\n",
        "  def forward(self, X):\n",
        "    # First Pass\n",
        "    X = F.relu(self.conv1(X))\n",
        "    X = F.max_pool2d(X, 2, 2) # 2x2 kernel and stride 2\n",
        "    # Second Pass\n",
        "    X = F.relu(self.conv2(X))\n",
        "    X = F.max_pool2d(X, 2, 2) # 2x2 kernel and stride 2\n",
        "\n",
        "    # Re-View to flatten it out\n",
        "    X = X.view(-1, 16*5*5) # negative one so that we can vary the batch size\n",
        "\n",
        "    # Fully Connected Layers\n",
        "    X = F.relu(self.fc1(X))\n",
        "    X = F.relu(self.fc2(X))\n",
        "    X = self.fc3(X)\n",
        "\n",
        "    return F.log_softmax(X, dim=1)"
      ]
    },
    {
      "cell_type": "code",
      "execution_count": 58,
      "metadata": {
        "colab": {
          "base_uri": "https://localhost:8080/"
        },
        "id": "VaIq_X2umFOz",
        "outputId": "0f2539e1-c2f9-4ba7-bbe7-e7203022b23e"
      },
      "outputs": [
        {
          "output_type": "execute_result",
          "data": {
            "text/plain": [
              "ConvolutionNetwork(\n",
              "  (conv1): Conv2d(1, 6, kernel_size=(3, 3), stride=(1, 1))\n",
              "  (conv2): Conv2d(6, 16, kernel_size=(3, 3), stride=(1, 1))\n",
              "  (fc1): Linear(in_features=400, out_features=120, bias=True)\n",
              "  (fc2): Linear(in_features=120, out_features=84, bias=True)\n",
              "  (fc3): Linear(in_features=84, out_features=10, bias=True)\n",
              ")"
            ]
          },
          "metadata": {},
          "execution_count": 58
        }
      ],
      "source": [
        "# Create an Instance of our Model\n",
        "torch.manual_seed(41)\n",
        "model = ConvolutionNetwork()\n",
        "model"
      ]
    },
    {
      "cell_type": "code",
      "execution_count": 59,
      "metadata": {
        "id": "L0JSjbROmSIx"
      },
      "outputs": [],
      "source": [
        "# Loss Functioin Optimizer\n",
        "criterion = nn.CrossEntropyLoss()\n",
        "optimizer = torch.optim.Adam(model.parameters(), lr=0.001) # Smaller the lr, longer its gonna take to train"
      ]
    },
    {
      "cell_type": "markdown",
      "metadata": {
        "id": "cBB5H7FCmuZQ"
      },
      "source": [
        "***\n",
        "## Train Model\n",
        "\n",
        "> Let's train our Model"
      ]
    },
    {
      "cell_type": "code",
      "execution_count": 60,
      "metadata": {
        "colab": {
          "base_uri": "https://localhost:8080/"
        },
        "id": "mhSlC54qmoPX",
        "outputId": "daa57103-b6f4-443a-9c1d-2dec66237e47"
      },
      "outputs": [
        {
          "output_type": "stream",
          "name": "stdout",
          "text": [
            "Epoch: 0 Batch: 600 Loss: 0.1623610556125641\n",
            "Epoch: 0 Batch: 1200 Loss: 0.1502392590045929\n",
            "Epoch: 0 Batch: 1800 Loss: 0.4744560718536377\n",
            "Epoch: 0 Batch: 2400 Loss: 0.14238706231117249\n",
            "Epoch: 0 Batch: 3000 Loss: 0.007758188061416149\n",
            "Epoch: 0 Batch: 3600 Loss: 0.3836284875869751\n",
            "Epoch: 0 Batch: 4200 Loss: 0.0038223876617848873\n",
            "Epoch: 0 Batch: 4800 Loss: 0.0021286322735249996\n",
            "Epoch: 0 Batch: 5400 Loss: 0.0569545142352581\n",
            "Epoch: 0 Batch: 6000 Loss: 0.00038789428072050214\n",
            "Epoch: 1 Batch: 600 Loss: 0.005851339548826218\n",
            "Epoch: 1 Batch: 1200 Loss: 0.3855525553226471\n",
            "Epoch: 1 Batch: 1800 Loss: 0.004819948226213455\n",
            "Epoch: 1 Batch: 2400 Loss: 0.003216963727027178\n",
            "Epoch: 1 Batch: 3000 Loss: 0.0332382395863533\n",
            "Epoch: 1 Batch: 3600 Loss: 0.5372857451438904\n",
            "Epoch: 1 Batch: 4200 Loss: 0.04561494290828705\n",
            "Epoch: 1 Batch: 4800 Loss: 0.0007510822033509612\n",
            "Epoch: 1 Batch: 5400 Loss: 0.0001173773780465126\n",
            "Epoch: 1 Batch: 6000 Loss: 0.14201366901397705\n",
            "Epoch: 2 Batch: 600 Loss: 0.023733172565698624\n",
            "Epoch: 2 Batch: 1200 Loss: 0.003455493599176407\n",
            "Epoch: 2 Batch: 1800 Loss: 0.0008372392621822655\n",
            "Epoch: 2 Batch: 2400 Loss: 0.010705141350626945\n",
            "Epoch: 2 Batch: 3000 Loss: 0.008078320883214474\n",
            "Epoch: 2 Batch: 3600 Loss: 0.0011862406972795725\n",
            "Epoch: 2 Batch: 4200 Loss: 0.038080841302871704\n",
            "Epoch: 2 Batch: 4800 Loss: 0.0016068397089838982\n",
            "Epoch: 2 Batch: 5400 Loss: 0.138673797249794\n",
            "Epoch: 2 Batch: 6000 Loss: 0.2449204921722412\n",
            "Epoch: 3 Batch: 600 Loss: 0.007151054684072733\n",
            "Epoch: 3 Batch: 1200 Loss: 0.011097034439444542\n",
            "Epoch: 3 Batch: 1800 Loss: 0.0017998721450567245\n",
            "Epoch: 3 Batch: 2400 Loss: 0.0001049584461725317\n",
            "Epoch: 3 Batch: 3000 Loss: 0.0031431831885129213\n",
            "Epoch: 3 Batch: 3600 Loss: 0.003668801160529256\n",
            "Epoch: 3 Batch: 4200 Loss: 0.0037249946035444736\n",
            "Epoch: 3 Batch: 4800 Loss: 0.00015864608576521277\n",
            "Epoch: 3 Batch: 5400 Loss: 0.0796482041478157\n",
            "Epoch: 3 Batch: 6000 Loss: 0.0808732658624649\n",
            "Epoch: 4 Batch: 600 Loss: 0.014099588617682457\n",
            "Epoch: 4 Batch: 1200 Loss: 0.0382874570786953\n",
            "Epoch: 4 Batch: 1800 Loss: 0.16302265226840973\n",
            "Epoch: 4 Batch: 2400 Loss: 0.02186887338757515\n",
            "Epoch: 4 Batch: 3000 Loss: 0.0024396399967372417\n",
            "Epoch: 4 Batch: 3600 Loss: 0.0013979513896629214\n",
            "Epoch: 4 Batch: 4200 Loss: 0.000989563181065023\n",
            "Epoch: 4 Batch: 4800 Loss: 0.010317974723875523\n",
            "Epoch: 4 Batch: 5400 Loss: 0.16506639122962952\n",
            "Epoch: 4 Batch: 6000 Loss: 0.0027098222635686398\n",
            "Training Took: 3.951808134714762 minutes!\n"
          ]
        }
      ],
      "source": [
        "import time\n",
        "start_time = time.time()\n",
        "\n",
        "# Create Variables to Track Things\n",
        "epochs = 5\n",
        "train_losses = []\n",
        "test_losses = []\n",
        "train_correct = []\n",
        "test_correct = []\n",
        "\n",
        "# For Loop of Epochs\n",
        "for i in range(epochs):\n",
        "  trn_corr = 0\n",
        "  tst_corr = 0\n",
        "\n",
        "\n",
        "  # Train\n",
        "  for b, (X_train, y_train) in enumerate(train_loader):\n",
        "    b += 1 # start our batches at 1\n",
        "    y_pred = model(X_train) # get predicted values from the training set, Not flattend 2D\n",
        "    loss = criterion(y_pred, y_train) # how off are we? Compare the predictions to correct answers in y_train\n",
        "\n",
        "    predicted = torch.max(y_pred.data, 1)[1] # add up the number of correct prediction.Indexed off the first point\n",
        "    batch_corr = (predicted == y_train).sum() # how many we got correct from this batch.T=1, F=0\n",
        "    trn_corr += batch_corr # keep track as we go along in training\n",
        "\n",
        "    # Update our parameters\n",
        "    optimizer.zero_grad()\n",
        "    loss.backward()\n",
        "    optimizer.step()\n",
        "\n",
        "\n",
        "    # Print out some results\n",
        "    if b%600 == 0:\n",
        "      print(f'Epoch: {i} Batch: {b} Loss: {loss.item()}')\n",
        "\n",
        "  train_losses.append(loss)\n",
        "  train_correct.append(trn_corr)\n",
        "\n",
        "\n",
        "  # Test\n",
        "  with torch.no_grad(): # No gradient so we don't update our weights and biases with test data\n",
        "    for b, (X_test, y_test) in enumerate(test_loader):\n",
        "      y_val = model(X_test)\n",
        "      predicted = torch.max(y_val.data, 1)[1] # Adding up correct predictions\n",
        "      tst_corr += (predicted == y_test).sum()\n",
        "\n",
        "  loss = criterion(y_val, y_test)\n",
        "  test_losses.append(loss)\n",
        "  test_correct.append(tst_corr)\n",
        "\n",
        "\n",
        "current_time = time.time()\n",
        "total = current_time - start_time\n",
        "print(f'Training Took: {total/60} minutes!')"
      ]
    },
    {
      "cell_type": "markdown",
      "source": [
        "***\n",
        "## Let's graph the loss at epoch"
      ],
      "metadata": {
        "id": "38pHUqL_1Lym"
      }
    },
    {
      "cell_type": "code",
      "execution_count": 61,
      "metadata": {
        "id": "EMIpGr5Ht9_B",
        "colab": {
          "base_uri": "https://localhost:8080/",
          "height": 470
        },
        "outputId": "ba0a41dd-6817-4946-f752-18b5a133dc38"
      },
      "outputs": [
        {
          "output_type": "execute_result",
          "data": {
            "text/plain": [
              "<matplotlib.legend.Legend at 0x7b88ccbde080>"
            ]
          },
          "metadata": {},
          "execution_count": 61
        },
        {
          "output_type": "display_data",
          "data": {
            "text/plain": [
              "<Figure size 640x480 with 1 Axes>"
            ],
            "image/png": "[encoded data removed]"
          },
          "metadata": {}
        }
      ],
      "source": [
        "train_losses = [tl.item() for tl in train_losses]\n",
        "plt.plot(train_losses, label=\"Training loss\")\n",
        "plt.plot(test_losses, label=\"Validation loss\")\n",
        "plt.title(\"Loss at Epoch\")\n",
        "plt.legend()"
      ]
    },
    {
      "cell_type": "code",
      "source": [
        "# graph the accuracy at the end of each epoch\n",
        "plt.plot([t/600 for t in train_correct], label=\"Training Accuracy\")\n",
        "plt.plot([t/100 for t in test_correct], label=\"Validation Accuracy\")\n",
        "plt.title(\"Accuracy at the end of each epoch\")\n",
        "plt.legend()"
      ],
      "metadata": {
        "colab": {
          "base_uri": "https://localhost:8080/",
          "height": 470
        },
        "id": "nUGaiABN1v1r",
        "outputId": "692ff5a9-984e-4083-e363-f900c7d5d78b"
      },
      "execution_count": 62,
      "outputs": [
        {
          "output_type": "execute_result",
          "data": {
            "text/plain": [
              "<matplotlib.legend.Legend at 0x7b88cde2e260>"
            ]
          },
          "metadata": {},
          "execution_count": 62
        },
        {
          "output_type": "display_data",
          "data": {
            "text/plain": [
              "<Figure size 640x480 with 1 Axes>"
            ],
            "image/png": "[encoded data removed]"
          },
          "metadata": {}
        }
      ]
    },
    {
      "cell_type": "code",
      "source": [
        "test_load_everything = DataLoader(test_data, batch_size=10000, shuffle=False)"
      ],
      "metadata": {
        "id": "ah-f4dBc2Zyd"
      },
      "execution_count": 63,
      "outputs": []
    },
    {
      "cell_type": "code",
      "source": [
        "with torch.no_grad():\n",
        "  correct = 0\n",
        "  for X_test, y_test in test_load_everything:\n",
        "    y_val = model(X_test)\n",
        "    predicted = torch.max(y_val, 1)[1]\n",
        "    correct += (predicted == y_test).sum()"
      ],
      "metadata": {
        "id": "Cs-Y-tF53dvs"
      },
      "execution_count": 64,
      "outputs": []
    },
    {
      "cell_type": "code",
      "source": [
        "correct.item()/len(test_data) * 100"
      ],
      "metadata": {
        "colab": {
          "base_uri": "https://localhost:8080/"
        },
        "id": "0fe78L_I3uZh",
        "outputId": "d4f48c89-d9a1-47ba-baa9-d34655774070"
      },
      "execution_count": 65,
      "outputs": [
        {
          "output_type": "execute_result",
          "data": {
            "text/plain": [
              "98.57000000000001"
            ]
          },
          "metadata": {},
          "execution_count": 65
        }
      ]
    },
    {
      "cell_type": "markdown",
      "source": [
        "***\n",
        "## Grab an image"
      ],
      "metadata": {
        "id": "eqb7giiy9IRD"
      }
    },
    {
      "cell_type": "code",
      "source": [
        "test_data[4143]"
      ],
      "metadata": {
        "colab": {
          "base_uri": "https://localhost:8080/"
        },
        "id": "nlE6vYvG330y",
        "outputId": "fd7a34f7-b7b2-428f-f9d4-3735a3c3e240"
      },
      "execution_count": 66,
      "outputs": [
        {
          "output_type": "execute_result",
          "data": {
            "text/plain": [
              "(tensor([[[0.0000, 0.0000, 0.0000, 0.0000, 0.0000, 0.0000, 0.0000, 0.0000,\n",
              "           0.0000, 0.0000, 0.0000, 0.0000, 0.0000, 0.0000, 0.0000, 0.0000,\n",
              "           0.0000, 0.0000, 0.0000, 0.0000, 0.0000, 0.0000, 0.0000, 0.0000,\n",
              "           0.0000, 0.0000, 0.0000, 0.0000],\n",
              "          [0.0000, 0.0000, 0.0000, 0.0000, 0.0000, 0.0000, 0.0000, 0.0000,\n",
              "           0.0000, 0.0000, 0.0000, 0.0000, 0.0000, 0.0000, 0.0000, 0.0000,\n",
              "           0.0000, 0.0000, 0.0000, 0.0000, 0.0000, 0.0000, 0.0000, 0.0000,\n",
              "           0.0000, 0.0000, 0.0000, 0.0000],\n",
              "          [0.0000, 0.0000, 0.0000, 0.0000, 0.0000, 0.0000, 0.0000, 0.0000,\n",
              "           0.0000, 0.0000, 0.0000, 0.0000, 0.0000, 0.0000, 0.0000, 0.0000,\n",
              "           0.0000, 0.0000, 0.0000, 0.0000, 0.0000, 0.0000, 0.0000, 0.0000,\n",
              "           0.0000, 0.0000, 0.0000, 0.0000],\n",
              "          [0.0000, 0.0000, 0.0000, 0.0000, 0.0000, 0.0000, 0.0000, 0.0000,\n",
              "           0.0000, 0.0000, 0.0000, 0.0000, 0.0000, 0.0000, 0.0000, 0.0000,\n",
              "           0.0000, 0.0000, 0.0000, 0.0000, 0.0000, 0.0000, 0.0000, 0.0000,\n",
              "           0.0000, 0.0000, 0.0000, 0.0000],\n",
              "          [0.0000, 0.0000, 0.0000, 0.0000, 0.0000, 0.0000, 0.0000, 0.0000,\n",
              "           0.0000, 0.0000, 0.0000, 0.0000, 0.0000, 0.0000, 0.0000, 0.0000,\n",
              "           0.0000, 0.0000, 0.0000, 0.0000, 0.0000, 0.0000, 0.0000, 0.0000,\n",
              "           0.0000, 0.0000, 0.0000, 0.0000],\n",
              "          [0.0000, 0.0000, 0.0000, 0.0000, 0.0000, 0.0000, 0.0000, 0.0000,\n",
              "           0.0000, 0.0000, 0.0000, 0.0000, 0.0000, 0.0000, 0.0000, 0.0000,\n",
              "           0.0000, 0.0000, 0.0000, 0.0000, 0.0000, 0.0000, 0.0000, 0.0000,\n",
              "           0.0000, 0.0000, 0.0000, 0.0000],\n",
              "          [0.0000, 0.0000, 0.0000, 0.0000, 0.0000, 0.0000, 0.0000, 0.0000,\n",
              "           0.0000, 0.0000, 0.0000, 0.1765, 0.9098, 0.8275, 0.4980, 0.0627,\n",
              "           0.0000, 0.0000, 0.0000, 0.0000, 0.0000, 0.0000, 0.0000, 0.0000,\n",
              "           0.0000, 0.0000, 0.0000, 0.0000],\n",
              "          [0.0000, 0.0000, 0.0000, 0.0000, 0.0000, 0.0000, 0.0000, 0.0000,\n",
              "           0.0000, 0.0000, 0.0706, 0.7961, 0.9961, 0.9961, 0.9961, 0.8235,\n",
              "           0.3765, 0.0667, 0.0000, 0.0000, 0.0000, 0.0000, 0.0000, 0.0000,\n",
              "           0.0000, 0.0000, 0.0000, 0.0000],\n",
              "          [0.0000, 0.0000, 0.0000, 0.0000, 0.0000, 0.0000, 0.0000, 0.0000,\n",
              "           0.0000, 0.0000, 0.4353, 0.9961, 0.9961, 0.4667, 0.8941, 0.9961,\n",
              "           0.9961, 0.9412, 0.1490, 0.0000, 0.0000, 0.0000, 0.0000, 0.0000,\n",
              "           0.0000, 0.0000, 0.0000, 0.0000],\n",
              "          [0.0000, 0.0000, 0.0000, 0.0000, 0.0000, 0.0000, 0.0000, 0.0000,\n",
              "           0.0000, 0.0000, 0.8824, 0.9961, 0.7922, 0.0588, 0.1569, 0.8235,\n",
              "           0.9961, 0.9961, 0.4431, 0.0000, 0.0000, 0.0000, 0.0000, 0.0000,\n",
              "           0.0000, 0.0000, 0.0000, 0.0000],\n",
              "          [0.0000, 0.0000, 0.0000, 0.0000, 0.0000, 0.0000, 0.0000, 0.0000,\n",
              "           0.0000, 0.2314, 0.9569, 0.9961, 0.2706, 0.0000, 0.0000, 0.8157,\n",
              "           0.9961, 0.9961, 0.6902, 0.0000, 0.0000, 0.0000, 0.0000, 0.0000,\n",
              "           0.0000, 0.0000, 0.0000, 0.0000],\n",
              "          [0.0000, 0.0000, 0.0000, 0.0000, 0.0000, 0.0000, 0.0000, 0.0000,\n",
              "           0.0000, 0.7725, 0.9961, 0.9961, 0.1333, 0.0000, 0.2235, 0.9843,\n",
              "           0.9961, 0.9961, 0.5725, 0.0000, 0.0000, 0.0000, 0.0000, 0.0000,\n",
              "           0.0000, 0.0000, 0.0000, 0.0000],\n",
              "          [0.0000, 0.0000, 0.0000, 0.0000, 0.0000, 0.0000, 0.0000, 0.0000,\n",
              "           0.0000, 0.9176, 0.9961, 0.6235, 0.0157, 0.0392, 0.7176, 0.9961,\n",
              "           0.9961, 0.9961, 0.3843, 0.0000, 0.0000, 0.0000, 0.0000, 0.0000,\n",
              "           0.0000, 0.0000, 0.0000, 0.0000],\n",
              "          [0.0000, 0.0000, 0.0000, 0.0000, 0.0000, 0.0000, 0.0000, 0.0000,\n",
              "           0.0000, 0.9176, 0.9961, 0.1569, 0.0000, 0.6549, 0.9961, 0.9961,\n",
              "           0.9961, 0.9961, 0.2353, 0.0000, 0.0000, 0.0000, 0.0000, 0.0000,\n",
              "           0.0000, 0.0000, 0.0000, 0.0000],\n",
              "          [0.0000, 0.0000, 0.0000, 0.0000, 0.0000, 0.0000, 0.0000, 0.0000,\n",
              "           0.0000, 0.7373, 0.9961, 0.2824, 0.6588, 0.9765, 0.9961, 0.9961,\n",
              "           0.9961, 0.9961, 0.2353, 0.0000, 0.0000, 0.0000, 0.0000, 0.0000,\n",
              "           0.0000, 0.0000, 0.0000, 0.0000],\n",
              "          [0.0000, 0.0000, 0.0000, 0.0000, 0.0000, 0.0000, 0.0000, 0.0000,\n",
              "           0.0000, 0.3647, 0.9804, 0.9961, 0.9961, 0.9961, 0.9961, 0.9961,\n",
              "           0.9961, 0.9961, 0.2353, 0.0000, 0.0000, 0.0000, 0.0000, 0.0000,\n",
              "           0.0000, 0.0000, 0.0000, 0.0000],\n",
              "          [0.0000, 0.0000, 0.0000, 0.0000, 0.0000, 0.0000, 0.0000, 0.0000,\n",
              "           0.0000, 0.0000, 0.6784, 0.9961, 0.9961, 0.9961, 0.9451, 0.9961,\n",
              "           0.9961, 0.6824, 0.0392, 0.0000, 0.0000, 0.0000, 0.0000, 0.0000,\n",
              "           0.0000, 0.0000, 0.0000, 0.0000],\n",
              "          [0.0000, 0.0000, 0.0000, 0.0000, 0.0000, 0.0000, 0.0000, 0.0000,\n",
              "           0.0000, 0.0000, 0.0431, 0.4863, 0.8157, 0.4627, 0.5804, 0.9961,\n",
              "           0.9961, 0.8941, 0.0000, 0.0000, 0.0000, 0.0000, 0.0000, 0.0000,\n",
              "           0.0000, 0.0000, 0.0000, 0.0000],\n",
              "          [0.0000, 0.0000, 0.0000, 0.0000, 0.0000, 0.0000, 0.0000, 0.0000,\n",
              "           0.0000, 0.0000, 0.0000, 0.0000, 0.0000, 0.0000, 0.4941, 0.9961,\n",
              "           0.9961, 0.6235, 0.0000, 0.0000, 0.0000, 0.0000, 0.0000, 0.0000,\n",
              "           0.0000, 0.0000, 0.0000, 0.0000],\n",
              "          [0.0000, 0.0000, 0.0000, 0.0000, 0.0000, 0.0000, 0.0000, 0.0000,\n",
              "           0.0000, 0.0000, 0.0000, 0.0000, 0.0000, 0.0000, 0.7569, 0.9961,\n",
              "           0.9961, 0.5569, 0.0000, 0.0000, 0.0000, 0.0000, 0.0000, 0.0000,\n",
              "           0.0000, 0.0000, 0.0000, 0.0000],\n",
              "          [0.0000, 0.0000, 0.0000, 0.0000, 0.0000, 0.0000, 0.0000, 0.0000,\n",
              "           0.0000, 0.0000, 0.0000, 0.0000, 0.0000, 0.0000, 0.8314, 0.9961,\n",
              "           0.9961, 0.4157, 0.0000, 0.0000, 0.0000, 0.0000, 0.0000, 0.0000,\n",
              "           0.0000, 0.0000, 0.0000, 0.0000],\n",
              "          [0.0000, 0.0000, 0.0000, 0.0000, 0.0000, 0.0000, 0.0000, 0.0000,\n",
              "           0.0000, 0.0000, 0.0000, 0.0000, 0.0000, 0.0118, 0.8431, 0.9961,\n",
              "           0.9882, 0.2039, 0.0000, 0.0000, 0.0000, 0.0000, 0.0000, 0.0000,\n",
              "           0.0000, 0.0000, 0.0000, 0.0000],\n",
              "          [0.0000, 0.0000, 0.0000, 0.0000, 0.0000, 0.0000, 0.0000, 0.0000,\n",
              "           0.0000, 0.0000, 0.0000, 0.0000, 0.0000, 0.1882, 0.9961, 0.9961,\n",
              "           0.9255, 0.0863, 0.0000, 0.0000, 0.0000, 0.0000, 0.0000, 0.0000,\n",
              "           0.0000, 0.0000, 0.0000, 0.0000],\n",
              "          [0.0000, 0.0000, 0.0000, 0.0000, 0.0000, 0.0000, 0.0000, 0.0000,\n",
              "           0.0000, 0.0000, 0.0000, 0.0000, 0.0000, 0.5098, 0.9961, 1.0000,\n",
              "           0.5529, 0.0627, 0.0000, 0.0000, 0.0000, 0.0000, 0.0000, 0.0000,\n",
              "           0.0000, 0.0000, 0.0000, 0.0000],\n",
              "          [0.0000, 0.0000, 0.0000, 0.0000, 0.0000, 0.0000, 0.0000, 0.0000,\n",
              "           0.0000, 0.0000, 0.0000, 0.0000, 0.0000, 0.5098, 0.9961, 1.0000,\n",
              "           0.3059, 0.0000, 0.0000, 0.0000, 0.0000, 0.0000, 0.0000, 0.0000,\n",
              "           0.0000, 0.0000, 0.0000, 0.0000],\n",
              "          [0.0000, 0.0000, 0.0000, 0.0000, 0.0000, 0.0000, 0.0000, 0.0000,\n",
              "           0.0000, 0.0000, 0.0000, 0.0000, 0.0000, 0.3961, 0.9961, 0.7882,\n",
              "           0.0667, 0.0000, 0.0000, 0.0000, 0.0000, 0.0000, 0.0000, 0.0000,\n",
              "           0.0000, 0.0000, 0.0000, 0.0000],\n",
              "          [0.0000, 0.0000, 0.0000, 0.0000, 0.0000, 0.0000, 0.0000, 0.0000,\n",
              "           0.0000, 0.0000, 0.0000, 0.0000, 0.0000, 0.0000, 0.0000, 0.0000,\n",
              "           0.0000, 0.0000, 0.0000, 0.0000, 0.0000, 0.0000, 0.0000, 0.0000,\n",
              "           0.0000, 0.0000, 0.0000, 0.0000],\n",
              "          [0.0000, 0.0000, 0.0000, 0.0000, 0.0000, 0.0000, 0.0000, 0.0000,\n",
              "           0.0000, 0.0000, 0.0000, 0.0000, 0.0000, 0.0000, 0.0000, 0.0000,\n",
              "           0.0000, 0.0000, 0.0000, 0.0000, 0.0000, 0.0000, 0.0000, 0.0000,\n",
              "           0.0000, 0.0000, 0.0000, 0.0000]]]),\n",
              " 9)"
            ]
          },
          "metadata": {},
          "execution_count": 66
        }
      ]
    },
    {
      "cell_type": "code",
      "source": [
        "# Grab just the data, without label\n",
        "test_data[4143][0]"
      ],
      "metadata": {
        "colab": {
          "base_uri": "https://localhost:8080/"
        },
        "id": "aw_HDd0f9Lhs",
        "outputId": "07ef1230-d574-4d36-c3c5-7716e75673c4"
      },
      "execution_count": 67,
      "outputs": [
        {
          "output_type": "execute_result",
          "data": {
            "text/plain": [
              "tensor([[[0.0000, 0.0000, 0.0000, 0.0000, 0.0000, 0.0000, 0.0000, 0.0000,\n",
              "          0.0000, 0.0000, 0.0000, 0.0000, 0.0000, 0.0000, 0.0000, 0.0000,\n",
              "          0.0000, 0.0000, 0.0000, 0.0000, 0.0000, 0.0000, 0.0000, 0.0000,\n",
              "          0.0000, 0.0000, 0.0000, 0.0000],\n",
              "         [0.0000, 0.0000, 0.0000, 0.0000, 0.0000, 0.0000, 0.0000, 0.0000,\n",
              "          0.0000, 0.0000, 0.0000, 0.0000, 0.0000, 0.0000, 0.0000, 0.0000,\n",
              "          0.0000, 0.0000, 0.0000, 0.0000, 0.0000, 0.0000, 0.0000, 0.0000,\n",
              "          0.0000, 0.0000, 0.0000, 0.0000],\n",
              "         [0.0000, 0.0000, 0.0000, 0.0000, 0.0000, 0.0000, 0.0000, 0.0000,\n",
              "          0.0000, 0.0000, 0.0000, 0.0000, 0.0000, 0.0000, 0.0000, 0.0000,\n",
              "          0.0000, 0.0000, 0.0000, 0.0000, 0.0000, 0.0000, 0.0000, 0.0000,\n",
              "          0.0000, 0.0000, 0.0000, 0.0000],\n",
              "         [0.0000, 0.0000, 0.0000, 0.0000, 0.0000, 0.0000, 0.0000, 0.0000,\n",
              "          0.0000, 0.0000, 0.0000, 0.0000, 0.0000, 0.0000, 0.0000, 0.0000,\n",
              "          0.0000, 0.0000, 0.0000, 0.0000, 0.0000, 0.0000, 0.0000, 0.0000,\n",
              "          0.0000, 0.0000, 0.0000, 0.0000],\n",
              "         [0.0000, 0.0000, 0.0000, 0.0000, 0.0000, 0.0000, 0.0000, 0.0000,\n",
              "          0.0000, 0.0000, 0.0000, 0.0000, 0.0000, 0.0000, 0.0000, 0.0000,\n",
              "          0.0000, 0.0000, 0.0000, 0.0000, 0.0000, 0.0000, 0.0000, 0.0000,\n",
              "          0.0000, 0.0000, 0.0000, 0.0000],\n",
              "         [0.0000, 0.0000, 0.0000, 0.0000, 0.0000, 0.0000, 0.0000, 0.0000,\n",
              "          0.0000, 0.0000, 0.0000, 0.0000, 0.0000, 0.0000, 0.0000, 0.0000,\n",
              "          0.0000, 0.0000, 0.0000, 0.0000, 0.0000, 0.0000, 0.0000, 0.0000,\n",
              "          0.0000, 0.0000, 0.0000, 0.0000],\n",
              "         [0.0000, 0.0000, 0.0000, 0.0000, 0.0000, 0.0000, 0.0000, 0.0000,\n",
              "          0.0000, 0.0000, 0.0000, 0.1765, 0.9098, 0.8275, 0.4980, 0.0627,\n",
              "          0.0000, 0.0000, 0.0000, 0.0000, 0.0000, 0.0000, 0.0000, 0.0000,\n",
              "          0.0000, 0.0000, 0.0000, 0.0000],\n",
              "         [0.0000, 0.0000, 0.0000, 0.0000, 0.0000, 0.0000, 0.0000, 0.0000,\n",
              "          0.0000, 0.0000, 0.0706, 0.7961, 0.9961, 0.9961, 0.9961, 0.8235,\n",
              "          0.3765, 0.0667, 0.0000, 0.0000, 0.0000, 0.0000, 0.0000, 0.0000,\n",
              "          0.0000, 0.0000, 0.0000, 0.0000],\n",
              "         [0.0000, 0.0000, 0.0000, 0.0000, 0.0000, 0.0000, 0.0000, 0.0000,\n",
              "          0.0000, 0.0000, 0.4353, 0.9961, 0.9961, 0.4667, 0.8941, 0.9961,\n",
              "          0.9961, 0.9412, 0.1490, 0.0000, 0.0000, 0.0000, 0.0000, 0.0000,\n",
              "          0.0000, 0.0000, 0.0000, 0.0000],\n",
              "         [0.0000, 0.0000, 0.0000, 0.0000, 0.0000, 0.0000, 0.0000, 0.0000,\n",
              "          0.0000, 0.0000, 0.8824, 0.9961, 0.7922, 0.0588, 0.1569, 0.8235,\n",
              "          0.9961, 0.9961, 0.4431, 0.0000, 0.0000, 0.0000, 0.0000, 0.0000,\n",
              "          0.0000, 0.0000, 0.0000, 0.0000],\n",
              "         [0.0000, 0.0000, 0.0000, 0.0000, 0.0000, 0.0000, 0.0000, 0.0000,\n",
              "          0.0000, 0.2314, 0.9569, 0.9961, 0.2706, 0.0000, 0.0000, 0.8157,\n",
              "          0.9961, 0.9961, 0.6902, 0.0000, 0.0000, 0.0000, 0.0000, 0.0000,\n",
              "          0.0000, 0.0000, 0.0000, 0.0000],\n",
              "         [0.0000, 0.0000, 0.0000, 0.0000, 0.0000, 0.0000, 0.0000, 0.0000,\n",
              "          0.0000, 0.7725, 0.9961, 0.9961, 0.1333, 0.0000, 0.2235, 0.9843,\n",
              "          0.9961, 0.9961, 0.5725, 0.0000, 0.0000, 0.0000, 0.0000, 0.0000,\n",
              "          0.0000, 0.0000, 0.0000, 0.0000],\n",
              "         [0.0000, 0.0000, 0.0000, 0.0000, 0.0000, 0.0000, 0.0000, 0.0000,\n",
              "          0.0000, 0.9176, 0.9961, 0.6235, 0.0157, 0.0392, 0.7176, 0.9961,\n",
              "          0.9961, 0.9961, 0.3843, 0.0000, 0.0000, 0.0000, 0.0000, 0.0000,\n",
              "          0.0000, 0.0000, 0.0000, 0.0000],\n",
              "         [0.0000, 0.0000, 0.0000, 0.0000, 0.0000, 0.0000, 0.0000, 0.0000,\n",
              "          0.0000, 0.9176, 0.9961, 0.1569, 0.0000, 0.6549, 0.9961, 0.9961,\n",
              "          0.9961, 0.9961, 0.2353, 0.0000, 0.0000, 0.0000, 0.0000, 0.0000,\n",
              "          0.0000, 0.0000, 0.0000, 0.0000],\n",
              "         [0.0000, 0.0000, 0.0000, 0.0000, 0.0000, 0.0000, 0.0000, 0.0000,\n",
              "          0.0000, 0.7373, 0.9961, 0.2824, 0.6588, 0.9765, 0.9961, 0.9961,\n",
              "          0.9961, 0.9961, 0.2353, 0.0000, 0.0000, 0.0000, 0.0000, 0.0000,\n",
              "          0.0000, 0.0000, 0.0000, 0.0000],\n",
              "         [0.0000, 0.0000, 0.0000, 0.0000, 0.0000, 0.0000, 0.0000, 0.0000,\n",
              "          0.0000, 0.3647, 0.9804, 0.9961, 0.9961, 0.9961, 0.9961, 0.9961,\n",
              "          0.9961, 0.9961, 0.2353, 0.0000, 0.0000, 0.0000, 0.0000, 0.0000,\n",
              "          0.0000, 0.0000, 0.0000, 0.0000],\n",
              "         [0.0000, 0.0000, 0.0000, 0.0000, 0.0000, 0.0000, 0.0000, 0.0000,\n",
              "          0.0000, 0.0000, 0.6784, 0.9961, 0.9961, 0.9961, 0.9451, 0.9961,\n",
              "          0.9961, 0.6824, 0.0392, 0.0000, 0.0000, 0.0000, 0.0000, 0.0000,\n",
              "          0.0000, 0.0000, 0.0000, 0.0000],\n",
              "         [0.0000, 0.0000, 0.0000, 0.0000, 0.0000, 0.0000, 0.0000, 0.0000,\n",
              "          0.0000, 0.0000, 0.0431, 0.4863, 0.8157, 0.4627, 0.5804, 0.9961,\n",
              "          0.9961, 0.8941, 0.0000, 0.0000, 0.0000, 0.0000, 0.0000, 0.0000,\n",
              "          0.0000, 0.0000, 0.0000, 0.0000],\n",
              "         [0.0000, 0.0000, 0.0000, 0.0000, 0.0000, 0.0000, 0.0000, 0.0000,\n",
              "          0.0000, 0.0000, 0.0000, 0.0000, 0.0000, 0.0000, 0.4941, 0.9961,\n",
              "          0.9961, 0.6235, 0.0000, 0.0000, 0.0000, 0.0000, 0.0000, 0.0000,\n",
              "          0.0000, 0.0000, 0.0000, 0.0000],\n",
              "         [0.0000, 0.0000, 0.0000, 0.0000, 0.0000, 0.0000, 0.0000, 0.0000,\n",
              "          0.0000, 0.0000, 0.0000, 0.0000, 0.0000, 0.0000, 0.7569, 0.9961,\n",
              "          0.9961, 0.5569, 0.0000, 0.0000, 0.0000, 0.0000, 0.0000, 0.0000,\n",
              "          0.0000, 0.0000, 0.0000, 0.0000],\n",
              "         [0.0000, 0.0000, 0.0000, 0.0000, 0.0000, 0.0000, 0.0000, 0.0000,\n",
              "          0.0000, 0.0000, 0.0000, 0.0000, 0.0000, 0.0000, 0.8314, 0.9961,\n",
              "          0.9961, 0.4157, 0.0000, 0.0000, 0.0000, 0.0000, 0.0000, 0.0000,\n",
              "          0.0000, 0.0000, 0.0000, 0.0000],\n",
              "         [0.0000, 0.0000, 0.0000, 0.0000, 0.0000, 0.0000, 0.0000, 0.0000,\n",
              "          0.0000, 0.0000, 0.0000, 0.0000, 0.0000, 0.0118, 0.8431, 0.9961,\n",
              "          0.9882, 0.2039, 0.0000, 0.0000, 0.0000, 0.0000, 0.0000, 0.0000,\n",
              "          0.0000, 0.0000, 0.0000, 0.0000],\n",
              "         [0.0000, 0.0000, 0.0000, 0.0000, 0.0000, 0.0000, 0.0000, 0.0000,\n",
              "          0.0000, 0.0000, 0.0000, 0.0000, 0.0000, 0.1882, 0.9961, 0.9961,\n",
              "          0.9255, 0.0863, 0.0000, 0.0000, 0.0000, 0.0000, 0.0000, 0.0000,\n",
              "          0.0000, 0.0000, 0.0000, 0.0000],\n",
              "         [0.0000, 0.0000, 0.0000, 0.0000, 0.0000, 0.0000, 0.0000, 0.0000,\n",
              "          0.0000, 0.0000, 0.0000, 0.0000, 0.0000, 0.5098, 0.9961, 1.0000,\n",
              "          0.5529, 0.0627, 0.0000, 0.0000, 0.0000, 0.0000, 0.0000, 0.0000,\n",
              "          0.0000, 0.0000, 0.0000, 0.0000],\n",
              "         [0.0000, 0.0000, 0.0000, 0.0000, 0.0000, 0.0000, 0.0000, 0.0000,\n",
              "          0.0000, 0.0000, 0.0000, 0.0000, 0.0000, 0.5098, 0.9961, 1.0000,\n",
              "          0.3059, 0.0000, 0.0000, 0.0000, 0.0000, 0.0000, 0.0000, 0.0000,\n",
              "          0.0000, 0.0000, 0.0000, 0.0000],\n",
              "         [0.0000, 0.0000, 0.0000, 0.0000, 0.0000, 0.0000, 0.0000, 0.0000,\n",
              "          0.0000, 0.0000, 0.0000, 0.0000, 0.0000, 0.3961, 0.9961, 0.7882,\n",
              "          0.0667, 0.0000, 0.0000, 0.0000, 0.0000, 0.0000, 0.0000, 0.0000,\n",
              "          0.0000, 0.0000, 0.0000, 0.0000],\n",
              "         [0.0000, 0.0000, 0.0000, 0.0000, 0.0000, 0.0000, 0.0000, 0.0000,\n",
              "          0.0000, 0.0000, 0.0000, 0.0000, 0.0000, 0.0000, 0.0000, 0.0000,\n",
              "          0.0000, 0.0000, 0.0000, 0.0000, 0.0000, 0.0000, 0.0000, 0.0000,\n",
              "          0.0000, 0.0000, 0.0000, 0.0000],\n",
              "         [0.0000, 0.0000, 0.0000, 0.0000, 0.0000, 0.0000, 0.0000, 0.0000,\n",
              "          0.0000, 0.0000, 0.0000, 0.0000, 0.0000, 0.0000, 0.0000, 0.0000,\n",
              "          0.0000, 0.0000, 0.0000, 0.0000, 0.0000, 0.0000, 0.0000, 0.0000,\n",
              "          0.0000, 0.0000, 0.0000, 0.0000]]])"
            ]
          },
          "metadata": {},
          "execution_count": 67
        }
      ]
    },
    {
      "cell_type": "code",
      "source": [
        "# Reshape it\n",
        "test_data[4143][0].reshape(28, 28)"
      ],
      "metadata": {
        "colab": {
          "base_uri": "https://localhost:8080/"
        },
        "id": "j-iJcZKS9T2y",
        "outputId": "be274e70-36e3-4f98-b6dc-efe4a521c20c"
      },
      "execution_count": 68,
      "outputs": [
        {
          "output_type": "execute_result",
          "data": {
            "text/plain": [
              "tensor([[0.0000, 0.0000, 0.0000, 0.0000, 0.0000, 0.0000, 0.0000, 0.0000, 0.0000,\n",
              "         0.0000, 0.0000, 0.0000, 0.0000, 0.0000, 0.0000, 0.0000, 0.0000, 0.0000,\n",
              "         0.0000, 0.0000, 0.0000, 0.0000, 0.0000, 0.0000, 0.0000, 0.0000, 0.0000,\n",
              "         0.0000],\n",
              "        [0.0000, 0.0000, 0.0000, 0.0000, 0.0000, 0.0000, 0.0000, 0.0000, 0.0000,\n",
              "         0.0000, 0.0000, 0.0000, 0.0000, 0.0000, 0.0000, 0.0000, 0.0000, 0.0000,\n",
              "         0.0000, 0.0000, 0.0000, 0.0000, 0.0000, 0.0000, 0.0000, 0.0000, 0.0000,\n",
              "         0.0000],\n",
              "        [0.0000, 0.0000, 0.0000, 0.0000, 0.0000, 0.0000, 0.0000, 0.0000, 0.0000,\n",
              "         0.0000, 0.0000, 0.0000, 0.0000, 0.0000, 0.0000, 0.0000, 0.0000, 0.0000,\n",
              "         0.0000, 0.0000, 0.0000, 0.0000, 0.0000, 0.0000, 0.0000, 0.0000, 0.0000,\n",
              "         0.0000],\n",
              "        [0.0000, 0.0000, 0.0000, 0.0000, 0.0000, 0.0000, 0.0000, 0.0000, 0.0000,\n",
              "         0.0000, 0.0000, 0.0000, 0.0000, 0.0000, 0.0000, 0.0000, 0.0000, 0.0000,\n",
              "         0.0000, 0.0000, 0.0000, 0.0000, 0.0000, 0.0000, 0.0000, 0.0000, 0.0000,\n",
              "         0.0000],\n",
              "        [0.0000, 0.0000, 0.0000, 0.0000, 0.0000, 0.0000, 0.0000, 0.0000, 0.0000,\n",
              "         0.0000, 0.0000, 0.0000, 0.0000, 0.0000, 0.0000, 0.0000, 0.0000, 0.0000,\n",
              "         0.0000, 0.0000, 0.0000, 0.0000, 0.0000, 0.0000, 0.0000, 0.0000, 0.0000,\n",
              "         0.0000],\n",
              "        [0.0000, 0.0000, 0.0000, 0.0000, 0.0000, 0.0000, 0.0000, 0.0000, 0.0000,\n",
              "         0.0000, 0.0000, 0.0000, 0.0000, 0.0000, 0.0000, 0.0000, 0.0000, 0.0000,\n",
              "         0.0000, 0.0000, 0.0000, 0.0000, 0.0000, 0.0000, 0.0000, 0.0000, 0.0000,\n",
              "         0.0000],\n",
              "        [0.0000, 0.0000, 0.0000, 0.0000, 0.0000, 0.0000, 0.0000, 0.0000, 0.0000,\n",
              "         0.0000, 0.0000, 0.1765, 0.9098, 0.8275, 0.4980, 0.0627, 0.0000, 0.0000,\n",
              "         0.0000, 0.0000, 0.0000, 0.0000, 0.0000, 0.0000, 0.0000, 0.0000, 0.0000,\n",
              "         0.0000],\n",
              "        [0.0000, 0.0000, 0.0000, 0.0000, 0.0000, 0.0000, 0.0000, 0.0000, 0.0000,\n",
              "         0.0000, 0.0706, 0.7961, 0.9961, 0.9961, 0.9961, 0.8235, 0.3765, 0.0667,\n",
              "         0.0000, 0.0000, 0.0000, 0.0000, 0.0000, 0.0000, 0.0000, 0.0000, 0.0000,\n",
              "         0.0000],\n",
              "        [0.0000, 0.0000, 0.0000, 0.0000, 0.0000, 0.0000, 0.0000, 0.0000, 0.0000,\n",
              "         0.0000, 0.4353, 0.9961, 0.9961, 0.4667, 0.8941, 0.9961, 0.9961, 0.9412,\n",
              "         0.1490, 0.0000, 0.0000, 0.0000, 0.0000, 0.0000, 0.0000, 0.0000, 0.0000,\n",
              "         0.0000],\n",
              "        [0.0000, 0.0000, 0.0000, 0.0000, 0.0000, 0.0000, 0.0000, 0.0000, 0.0000,\n",
              "         0.0000, 0.8824, 0.9961, 0.7922, 0.0588, 0.1569, 0.8235, 0.9961, 0.9961,\n",
              "         0.4431, 0.0000, 0.0000, 0.0000, 0.0000, 0.0000, 0.0000, 0.0000, 0.0000,\n",
              "         0.0000],\n",
              "        [0.0000, 0.0000, 0.0000, 0.0000, 0.0000, 0.0000, 0.0000, 0.0000, 0.0000,\n",
              "         0.2314, 0.9569, 0.9961, 0.2706, 0.0000, 0.0000, 0.8157, 0.9961, 0.9961,\n",
              "         0.6902, 0.0000, 0.0000, 0.0000, 0.0000, 0.0000, 0.0000, 0.0000, 0.0000,\n",
              "         0.0000],\n",
              "        [0.0000, 0.0000, 0.0000, 0.0000, 0.0000, 0.0000, 0.0000, 0.0000, 0.0000,\n",
              "         0.7725, 0.9961, 0.9961, 0.1333, 0.0000, 0.2235, 0.9843, 0.9961, 0.9961,\n",
              "         0.5725, 0.0000, 0.0000, 0.0000, 0.0000, 0.0000, 0.0000, 0.0000, 0.0000,\n",
              "         0.0000],\n",
              "        [0.0000, 0.0000, 0.0000, 0.0000, 0.0000, 0.0000, 0.0000, 0.0000, 0.0000,\n",
              "         0.9176, 0.9961, 0.6235, 0.0157, 0.0392, 0.7176, 0.9961, 0.9961, 0.9961,\n",
              "         0.3843, 0.0000, 0.0000, 0.0000, 0.0000, 0.0000, 0.0000, 0.0000, 0.0000,\n",
              "         0.0000],\n",
              "        [0.0000, 0.0000, 0.0000, 0.0000, 0.0000, 0.0000, 0.0000, 0.0000, 0.0000,\n",
              "         0.9176, 0.9961, 0.1569, 0.0000, 0.6549, 0.9961, 0.9961, 0.9961, 0.9961,\n",
              "         0.2353, 0.0000, 0.0000, 0.0000, 0.0000, 0.0000, 0.0000, 0.0000, 0.0000,\n",
              "         0.0000],\n",
              "        [0.0000, 0.0000, 0.0000, 0.0000, 0.0000, 0.0000, 0.0000, 0.0000, 0.0000,\n",
              "         0.7373, 0.9961, 0.2824, 0.6588, 0.9765, 0.9961, 0.9961, 0.9961, 0.9961,\n",
              "         0.2353, 0.0000, 0.0000, 0.0000, 0.0000, 0.0000, 0.0000, 0.0000, 0.0000,\n",
              "         0.0000],\n",
              "        [0.0000, 0.0000, 0.0000, 0.0000, 0.0000, 0.0000, 0.0000, 0.0000, 0.0000,\n",
              "         0.3647, 0.9804, 0.9961, 0.9961, 0.9961, 0.9961, 0.9961, 0.9961, 0.9961,\n",
              "         0.2353, 0.0000, 0.0000, 0.0000, 0.0000, 0.0000, 0.0000, 0.0000, 0.0000,\n",
              "         0.0000],\n",
              "        [0.0000, 0.0000, 0.0000, 0.0000, 0.0000, 0.0000, 0.0000, 0.0000, 0.0000,\n",
              "         0.0000, 0.6784, 0.9961, 0.9961, 0.9961, 0.9451, 0.9961, 0.9961, 0.6824,\n",
              "         0.0392, 0.0000, 0.0000, 0.0000, 0.0000, 0.0000, 0.0000, 0.0000, 0.0000,\n",
              "         0.0000],\n",
              "        [0.0000, 0.0000, 0.0000, 0.0000, 0.0000, 0.0000, 0.0000, 0.0000, 0.0000,\n",
              "         0.0000, 0.0431, 0.4863, 0.8157, 0.4627, 0.5804, 0.9961, 0.9961, 0.8941,\n",
              "         0.0000, 0.0000, 0.0000, 0.0000, 0.0000, 0.0000, 0.0000, 0.0000, 0.0000,\n",
              "         0.0000],\n",
              "        [0.0000, 0.0000, 0.0000, 0.0000, 0.0000, 0.0000, 0.0000, 0.0000, 0.0000,\n",
              "         0.0000, 0.0000, 0.0000, 0.0000, 0.0000, 0.4941, 0.9961, 0.9961, 0.6235,\n",
              "         0.0000, 0.0000, 0.0000, 0.0000, 0.0000, 0.0000, 0.0000, 0.0000, 0.0000,\n",
              "         0.0000],\n",
              "        [0.0000, 0.0000, 0.0000, 0.0000, 0.0000, 0.0000, 0.0000, 0.0000, 0.0000,\n",
              "         0.0000, 0.0000, 0.0000, 0.0000, 0.0000, 0.7569, 0.9961, 0.9961, 0.5569,\n",
              "         0.0000, 0.0000, 0.0000, 0.0000, 0.0000, 0.0000, 0.0000, 0.0000, 0.0000,\n",
              "         0.0000],\n",
              "        [0.0000, 0.0000, 0.0000, 0.0000, 0.0000, 0.0000, 0.0000, 0.0000, 0.0000,\n",
              "         0.0000, 0.0000, 0.0000, 0.0000, 0.0000, 0.8314, 0.9961, 0.9961, 0.4157,\n",
              "         0.0000, 0.0000, 0.0000, 0.0000, 0.0000, 0.0000, 0.0000, 0.0000, 0.0000,\n",
              "         0.0000],\n",
              "        [0.0000, 0.0000, 0.0000, 0.0000, 0.0000, 0.0000, 0.0000, 0.0000, 0.0000,\n",
              "         0.0000, 0.0000, 0.0000, 0.0000, 0.0118, 0.8431, 0.9961, 0.9882, 0.2039,\n",
              "         0.0000, 0.0000, 0.0000, 0.0000, 0.0000, 0.0000, 0.0000, 0.0000, 0.0000,\n",
              "         0.0000],\n",
              "        [0.0000, 0.0000, 0.0000, 0.0000, 0.0000, 0.0000, 0.0000, 0.0000, 0.0000,\n",
              "         0.0000, 0.0000, 0.0000, 0.0000, 0.1882, 0.9961, 0.9961, 0.9255, 0.0863,\n",
              "         0.0000, 0.0000, 0.0000, 0.0000, 0.0000, 0.0000, 0.0000, 0.0000, 0.0000,\n",
              "         0.0000],\n",
              "        [0.0000, 0.0000, 0.0000, 0.0000, 0.0000, 0.0000, 0.0000, 0.0000, 0.0000,\n",
              "         0.0000, 0.0000, 0.0000, 0.0000, 0.5098, 0.9961, 1.0000, 0.5529, 0.0627,\n",
              "         0.0000, 0.0000, 0.0000, 0.0000, 0.0000, 0.0000, 0.0000, 0.0000, 0.0000,\n",
              "         0.0000],\n",
              "        [0.0000, 0.0000, 0.0000, 0.0000, 0.0000, 0.0000, 0.0000, 0.0000, 0.0000,\n",
              "         0.0000, 0.0000, 0.0000, 0.0000, 0.5098, 0.9961, 1.0000, 0.3059, 0.0000,\n",
              "         0.0000, 0.0000, 0.0000, 0.0000, 0.0000, 0.0000, 0.0000, 0.0000, 0.0000,\n",
              "         0.0000],\n",
              "        [0.0000, 0.0000, 0.0000, 0.0000, 0.0000, 0.0000, 0.0000, 0.0000, 0.0000,\n",
              "         0.0000, 0.0000, 0.0000, 0.0000, 0.3961, 0.9961, 0.7882, 0.0667, 0.0000,\n",
              "         0.0000, 0.0000, 0.0000, 0.0000, 0.0000, 0.0000, 0.0000, 0.0000, 0.0000,\n",
              "         0.0000],\n",
              "        [0.0000, 0.0000, 0.0000, 0.0000, 0.0000, 0.0000, 0.0000, 0.0000, 0.0000,\n",
              "         0.0000, 0.0000, 0.0000, 0.0000, 0.0000, 0.0000, 0.0000, 0.0000, 0.0000,\n",
              "         0.0000, 0.0000, 0.0000, 0.0000, 0.0000, 0.0000, 0.0000, 0.0000, 0.0000,\n",
              "         0.0000],\n",
              "        [0.0000, 0.0000, 0.0000, 0.0000, 0.0000, 0.0000, 0.0000, 0.0000, 0.0000,\n",
              "         0.0000, 0.0000, 0.0000, 0.0000, 0.0000, 0.0000, 0.0000, 0.0000, 0.0000,\n",
              "         0.0000, 0.0000, 0.0000, 0.0000, 0.0000, 0.0000, 0.0000, 0.0000, 0.0000,\n",
              "         0.0000]])"
            ]
          },
          "metadata": {},
          "execution_count": 68
        }
      ]
    },
    {
      "cell_type": "code",
      "source": [
        "# Show the image\n",
        "plt.imshow(test_data[4143][0].reshape(28, 28))"
      ],
      "metadata": {
        "colab": {
          "base_uri": "https://localhost:8080/",
          "height": 448
        },
        "id": "QWDhjJur9aAG",
        "outputId": "cc8390e6-d1b4-4490-9a66-d008fae1acbd"
      },
      "execution_count": 69,
      "outputs": [
        {
          "output_type": "execute_result",
          "data": {
            "text/plain": [
              "<matplotlib.image.AxesImage at 0x7b88cca9e500>"
            ]
          },
          "metadata": {},
          "execution_count": 69
        },
        {
          "output_type": "display_data",
          "data": {
            "text/plain": [
              "<Figure size 640x480 with 1 Axes>"
            ],
            "image/png": "[encoded data removed]"
          },
          "metadata": {}
        }
      ]
    },
    {
      "cell_type": "code",
      "source": [
        "# Pass the image thru our model\n",
        "model.eval()\n",
        "\n",
        "with torch.no_grad():\n",
        "  new_prediction = model(test_data[4143][0].reshape(1, 1, 28, 28)) # batch size of 1, 1 color channel, 28x28 image"
      ],
      "metadata": {
        "id": "riKaX9Gj9fyq"
      },
      "execution_count": 71,
      "outputs": []
    },
    {
      "cell_type": "code",
      "source": [
        "# Check the new prediction... get probabilities\n",
        "new_prediction"
      ],
      "metadata": {
        "colab": {
          "base_uri": "https://localhost:8080/"
        },
        "id": "JjiohoOj9lDj",
        "outputId": "e4d9b6fc-106d-4a9c-94b4-2063e4ddf7fc"
      },
      "execution_count": 72,
      "outputs": [
        {
          "output_type": "execute_result",
          "data": {
            "text/plain": [
              "tensor([[-2.1693e+01, -1.8584e+01, -2.1709e+01, -1.5842e+01, -8.6330e+00,\n",
              "         -1.8415e+01, -3.1769e+01, -1.2734e+01, -1.3396e+01, -1.8273e-04]])"
            ]
          },
          "metadata": {},
          "execution_count": 72
        }
      ]
    },
    {
      "cell_type": "code",
      "source": [
        "new_prediction.argmax()"
      ],
      "metadata": {
        "colab": {
          "base_uri": "https://localhost:8080/"
        },
        "id": "4UkcjqF39wIQ",
        "outputId": "73fcf4fe-0c77-4b55-9edc-4ed8b36a7b68"
      },
      "execution_count": 73,
      "outputs": [
        {
          "output_type": "execute_result",
          "data": {
            "text/plain": [
              "tensor(9)"
            ]
          },
          "metadata": {},
          "execution_count": 73
        }
      ]
    },
    {
      "cell_type": "code",
      "source": [],
      "metadata": {
        "id": "4PWBEc2k90jZ"
      },
      "execution_count": null,
      "outputs": []
    }
  ],
  "metadata": {
    "colab": {
      "provenance": [],
      "authorship_tag": "ABX9TyOBDyGXLJAN1F+Lyky02HYk",
      "include_colab_link": true
    },
    "kernelspec": {
      "display_name": "Python 3",
      "name": "python3"
    },
    "language_info": {
      "name": "python"
    }
  },
  "nbformat": 4,
  "nbformat_minor": 0
}